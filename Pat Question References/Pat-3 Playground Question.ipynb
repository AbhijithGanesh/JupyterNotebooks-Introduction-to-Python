{
 "cells": [
  {
   "cell_type": "code",
   "execution_count": null,
   "id": "4d0425e3",
   "metadata": {},
   "outputs": [],
   "source": [
    "l1 = []\n",
    "l2 = []\n",
    "l3 = []\n",
    "l4 = []\n",
    "for i in range(4):\n",
    "    n = int(input())\n",
    "    l1.append(n)\n",
    "l2.append(l1[0])\n",
    "for i in range(1,len(l1)):\n",
    "    sum1 = l2[i-1]+l1[i]\n",
    "    l2.append(sum1)\n",
    "print(l2)\n",
    "totalsum = sum(l1)\n",
    "l3.append(totalsum)\n",
    "for i in range(0,len(l2)-1):\n",
    "    sum1 = totalsum-l2[i]\n",
    "    l3.append(sum1)\n",
    "print(l3)\n",
    "for i in l2:\n",
    "    for j in l3:\n",
    "        if i==j and l2.index(i) == l3.index(j):\n",
    "            matching = l2.index(i)\n",
    "print(matching)"
   ]
  },
  {
   "cell_type": "code",
   "execution_count": null,
   "id": "0845a7bd",
   "metadata": {},
   "outputs": [],
   "source": []
  },
  {
   "cell_type": "code",
   "execution_count": null,
   "id": "171277da",
   "metadata": {},
   "outputs": [],
   "source": []
  }
 ],
 "metadata": {
  "kernelspec": {
   "display_name": "Python 3",
   "language": "python",
   "name": "python3"
  },
  "language_info": {
   "codemirror_mode": {
    "name": "ipython",
    "version": 3
   },
   "file_extension": ".py",
   "mimetype": "text/x-python",
   "name": "python",
   "nbconvert_exporter": "python",
   "pygments_lexer": "ipython3",
   "version": "3.8.8"
  }
 },
 "nbformat": 4,
 "nbformat_minor": 5
}
