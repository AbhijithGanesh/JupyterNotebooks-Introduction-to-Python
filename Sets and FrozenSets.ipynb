{
 "cells": [
  {
   "cell_type": "code",
   "execution_count": 3,
   "metadata": {},
   "outputs": [],
   "source": [
    "#Basic Set functions\n",
    "\n",
    "# 1.Add\n",
    "# 2.Length\n",
    "# 3.Remove\n",
    "# 4.Discard\n",
    "# 5.Pop\n",
    "# 6.Clear\n",
    "# 7.Copy\n",
    "\n",
    "#Set Theory functions\n",
    "\"\"\"\n",
    "All of these functions come from the mathematics of set Theory\n",
    "1. Union\n",
    "2. Intersection\n",
    "3. Difference\n",
    "4. Symmetric Difference\n",
    "5. Superset\n",
    "6. Subset\n",
    "7. Disjoint\n",
    "\"\"\"\n",
    "\n",
    "#Comprehensions\n",
    "# Similar to list , we have set comprehensions\n",
    "\n",
    "#Frozenset\n",
    "#Immutable Set, Once we create it, even the order doesn't change\n"
   ]
  },
  {
   "cell_type": "code",
   "execution_count": 9,
   "metadata": {},
   "outputs": [
    {
     "name": "stdout",
     "output_type": "stream",
     "text": [
      "{1, 2, 3, 4, 5, 6, 7, 8}\n",
      "8\n",
      "{1, 2, 4, 5, 6, 7, 8}\n",
      "{1, 2, 4, 5, 6, 7}\n",
      "{2, 4, 5, 6, 7}\n",
      "set() {2, 4, 5, 6, 7}\n"
     ]
    }
   ],
   "source": [
    "test_set = set([1,2,3,4,5,6,7])\n",
    "\n",
    "test_set.add(8) #Addition\n",
    "print(test_set) \n",
    "\n",
    "print(len(test_set)) #Length\n",
    "\n",
    "test_set.remove(3) #Removal\n",
    "print(test_set) \n",
    "\n",
    "test_set.discard(8) #Discard\n",
    "print(test_set)\n",
    "\n",
    "test_set.pop() #Pop\n",
    "print(test_set)\n",
    "\n",
    "set_2 = test_set.copy() #Copy\n",
    "test_set.clear() #Clear\n",
    "\n",
    "print(test_set, set_2)"
   ]
  },
  {
   "cell_type": "code",
   "execution_count": 18,
   "metadata": {},
   "outputs": [
    {
     "name": "stdout",
     "output_type": "stream",
     "text": [
      "{1, 2, 3, 4, 5}\n",
      "{1, 2, 3, 4, 5}\n",
      "{3}\n",
      "{3}\n",
      "{1, 2}\n",
      "{1, 2}\n",
      "{1, 2, 4, 5}\n",
      "{1, 2, 4, 5}\n",
      "False\n",
      "False\n"
     ]
    }
   ],
   "source": [
    "#Set Operations\n",
    "set_1 = {1,2,3}\n",
    "set_2 = {3,4,5}\n",
    "\n",
    "print(set_1|set_2) #Union\n",
    "print(set_1.union(set_2))\n",
    "\n",
    "print(set_1&set_2) #Intersection\n",
    "print(set_1.intersection(set_2))\n",
    "\n",
    "print(set_1-set_2) #Difference\n",
    "print(set_1.difference(set_2))\n",
    "\n",
    "print(set_1^set_2)\n",
    "print(set_1.symmetric_difference(set_2))\n",
    "\n",
    "print(set_1.issuperset(set_2)) #Checks for Superset\n",
    "# Superset doesn't have an operator\n",
    "\n",
    "print(set_1.isdisjoint(set_2))"
   ]
  },
  {
   "cell_type": "code",
   "execution_count": null,
   "metadata": {},
   "outputs": [],
   "source": []
  }
 ],
 "metadata": {
  "kernelspec": {
   "display_name": "Python 3",
   "language": "python",
   "name": "python3"
  },
  "language_info": {
   "codemirror_mode": {
    "name": "ipython",
    "version": 3
   },
   "file_extension": ".py",
   "mimetype": "text/x-python",
   "name": "python",
   "nbconvert_exporter": "python",
   "pygments_lexer": "ipython3",
   "version": "3.8.5"
  }
 },
 "nbformat": 4,
 "nbformat_minor": 4
}
