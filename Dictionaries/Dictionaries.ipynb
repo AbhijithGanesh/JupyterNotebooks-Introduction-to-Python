{
 "cells": [
  {
   "cell_type": "code",
   "execution_count": 3,
   "metadata": {},
   "outputs": [
    {
     "name": "stdout",
     "output_type": "stream",
     "text": [
      "Enter Country\n",
      "India\n",
      "New Delhi\n"
     ]
    }
   ],
   "source": [
    "#Write a kids play program that prints the capital of a country given the name of the country.\n",
    "\n",
    "countries = {\n",
    "    \"India\":\"New Delhi\",\n",
    "    \"Maldives\":\"Male\",\n",
    "    \"Pakistan\":\"Isalamabad\",\n",
    "    \"Bangladesh\":\"Dhaka\",\n",
    "    \"Sri Lanka\":\"Colombo\",\n",
    "    \"China\":\"Beijing\"\n",
    "}\n",
    "inp = input(\"Enter Country\\n\")\n",
    "print(countries.get(inp))"
   ]
  },
  {
   "cell_type": "code",
   "execution_count": 5,
   "metadata": {},
   "outputs": [
    {
     "name": "stdout",
     "output_type": "stream",
     "text": [
      "{'Undergraduate': {'BCSE101L': 'Cinu', 'BMAT101': 'Saroj'}}\n"
     ]
    }
   ],
   "source": [
    "#Nesting in dictionary\n",
    "\n",
    "Classes = {\n",
    "    \"Undergraduate\":{\n",
    "        \"BCSE101L\":\"Cinu\",\n",
    "        \"BMAT101\":\"Saroj\"\n",
    "    }\n",
    "}\n",
    "print(Classes)"
   ]
  },
  {
   "cell_type": "code",
   "execution_count": 6,
   "metadata": {},
   "outputs": [
    {
     "name": "stdout",
     "output_type": "stream",
     "text": [
      "{0: range(0, 10), 1: range(0, 10), 2: range(0, 10), 3: range(0, 10), 4: range(0, 10), 5: range(0, 10), 6: range(0, 10), 7: range(0, 10), 8: range(0, 10), 9: range(0, 10)}\n"
     ]
    }
   ],
   "source": [
    "#Creating a dictionary by assignment\n",
    "dictionary = dict.fromkeys(range(10),range(10))\n",
    "print(dictionary)"
   ]
  },
  {
   "cell_type": "code",
   "execution_count": 8,
   "metadata": {},
   "outputs": [
    {
     "name": "stdout",
     "output_type": "stream",
     "text": [
      "{'Undergraduate': {'BCSE101L': 'Cinu', 'BMAT101': 'Saroj'}}\n"
     ]
    }
   ],
   "source": [
    "#Copies the items from dict1 to dict2 use copy()\n",
    "\n",
    "Classes = {\n",
    "    \"Undergraduate\":{\n",
    "        \"BCSE101L\":\"Cinu\",\n",
    "        \"BMAT101\":\"Saroj\"\n",
    "    }\n",
    "}\n",
    "copy = Classes.copy()\n",
    "Classes.clear()\n",
    "print(copy)\n"
   ]
  },
  {
   "cell_type": "code",
   "execution_count": 1,
   "metadata": {},
   "outputs": [
    {
     "name": "stdout",
     "output_type": "stream",
     "text": [
      "{3: 4, 1: 6, 7: 0, 5: 2, 11: 12, 9: 14, 15: 8, 13: 10, 19: 20, 17: 22, 23: 16, 21: 18, 27: 28, 25: 30, 31: 24, 29: 26, 35: 36, 33: 38, 39: 32, 37: 34, 43: 44, 41: 46, 47: 40, 45: 42, 51: 52, 49: 54, 55: 48, 53: 50, 59: 60, 57: 62, 63: 56, 61: 58}\n"
     ]
    }
   ],
   "source": [
    "#Dictionary comprehension\n",
    "lst = {\n",
    "    i^3:i^4 for i in range(64) if i%2 == 0\n",
    "}\n",
    "print(lst)"
   ]
  },
  {
   "cell_type": "code",
   "execution_count": 7,
   "metadata": {},
   "outputs": [
    {
     "name": "stdout",
     "output_type": "stream",
     "text": [
      "New Delhi\n",
      "6\n",
      "['India', 'Maldives', 'Pakistan', 'Bangladesh', 'Sri Lanka', 'China']\n",
      "['New Delhi', 'Jurong', 'Isalamabad', 'Dhaka', 'Colombo', 'Beijing']\n",
      "New Delhi\n",
      "{'India': 'New Delhi', 'Maldives': 'Jurong', 'Pakistan': 'Lahore', 'Bangladesh': 'Dhaka', 'Sri Lanka': 'Colombo', 'China': 'Beijing'}\n",
      "{'India': 'New Delhi', 'Maldives': 'Jurong', 'Pakistan': 'Lahore', 'Bangladesh': 'Dhaka', 'Sri Lanka': 'Colombo'}\n",
      "{}\n"
     ]
    }
   ],
   "source": [
    "\n",
    "# Questions\n",
    "# Create a dictionary.\n",
    "# Access values from the dictionary by giving the key\n",
    "# Update by adding a new item (key-value) pair\n",
    "# Modify an existing entry\n",
    "# Remove an element in a dictionary using the key\n",
    "# Remove all the elements\n",
    "# Delete the dictionary\n",
    "# Find the length of a dictionary\n",
    "# Create a new list of keys that are present in a dictionary\n",
    "# Create a new list of values that are present in a dictionary\n",
    "# Create a new list of items that are present in a dictionary\n",
    "# Use get() to display the value of a key\n",
    "# Use update() to merge two dictionaries\n",
    "# Delete and return value for a given key using pop()\n",
    "\n",
    "dictionary = {\n",
    "    \"India\":\"New Delhi\",\n",
    "    \"Maldives\":\"Male\",\n",
    "    \"Pakistan\":\"Isalamabad\",\n",
    "    \"Bangladesh\":\"Dhaka\",\n",
    "    \"Sri Lanka\":\"Colombo\",\n",
    "    \"China\":\"Beijing\"\n",
    "}\n",
    "\n",
    "\n",
    "dictionary[\"Maldives\"] = \"Jurong\"\n",
    "print(len(dictionary))\n",
    "print(list(dictionary.keys()))\n",
    "print(list(dictionary.values()))\n",
    "print(dictionary.get(\"India\"))\n",
    "dictionary.update({\"Pakistan\":\"Lahore\"})\n",
    "print(dictionary)\n",
    "dictionary.pop(\"China\")\n",
    "print(dictionary)\n",
    "dictionary.clear()\n",
    "print(dictionary)\n",
    "del dictionary\n"
   ]
  },
  {
   "cell_type": "code",
   "execution_count": 18,
   "metadata": {},
   "outputs": [
    {
     "name": "stdout",
     "output_type": "stream",
     "text": [
      "{'Maldives': 'Male', 'Pakistan': 'Isalamabad', 'Bangladesh': 'Dhaka', 'Sri Lanka': 'Colombo', 'China': 'Beijing'}\n"
     ]
    }
   ],
   "source": [
    "dictionary = {\n",
    "    \"India\":\"New Delhi\",\n",
    "    \"Maldives\":\"Male\",\n",
    "    \"Pakistan\":\"Isalamabad\",\n",
    "    \"Bangladesh\":\"Dhaka\",\n",
    "    \"Sri Lanka\":\"Colombo\",\n",
    "    \"China\":\"Beijing\"\n",
    "}\n",
    "dictionary.pop(\"India\")\n",
    "print(dictionary)\n"
   ]
  },
  {
   "cell_type": "code",
   "execution_count": null,
   "metadata": {},
   "outputs": [],
   "source": []
  }
 ],
 "metadata": {
  "kernelspec": {
   "display_name": "Python 3",
   "language": "python",
   "name": "python3"
  },
  "language_info": {
   "codemirror_mode": {
    "name": "ipython",
    "version": 3
   },
   "file_extension": ".py",
   "mimetype": "text/x-python",
   "name": "python",
   "nbconvert_exporter": "python",
   "pygments_lexer": "ipython3",
   "version": "3.8.5"
  }
 },
 "nbformat": 4,
 "nbformat_minor": 4
}
