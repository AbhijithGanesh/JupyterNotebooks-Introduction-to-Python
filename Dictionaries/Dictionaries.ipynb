{
 "cells": [
  {
   "cell_type": "code",
   "execution_count": 3,
   "metadata": {},
   "outputs": [
    {
     "name": "stdout",
     "output_type": "stream",
     "text": [
      "Enter Country\n",
      "India\n",
      "New Delhi\n"
     ]
    }
   ],
   "source": [
    "#Write a kids play program that prints the capital of a country given the name of the country.\n",
    "\n",
    "countries = {\n",
    "    \"India\":\"New Delhi\",\n",
    "    \"Maldives\":\"Male\",\n",
    "    \"Pakistan\":\"Isalamabad\",\n",
    "    \"Bangladesh\":\"Dhaka\",\n",
    "    \"Sri Lanka\":\"Colombo\",\n",
    "    \"China\":\"Beijing\"\n",
    "}\n",
    "inp = input(\"Enter Country\\n\")\n",
    "print(countries.get(inp))"
   ]
  },
  {
   "cell_type": "code",
   "execution_count": 5,
   "metadata": {},
   "outputs": [
    {
     "name": "stdout",
     "output_type": "stream",
     "text": [
      "{'Undergraduate': {'BCSE101L': 'Cinu', 'BMAT101': 'Saroj'}}\n"
     ]
    }
   ],
   "source": [
    "#Nesting in dictionary\n",
    "\n",
    "Classes = {\n",
    "    \"Undergraduate\":{\n",
    "        \"BCSE101L\":\"Cinu\",\n",
    "        \"BMAT101\":\"Saroj\"\n",
    "    }\n",
    "}\n",
    "print(Classes)"
   ]
  },
  {
   "cell_type": "code",
   "execution_count": 6,
   "metadata": {},
   "outputs": [
    {
     "name": "stdout",
     "output_type": "stream",
     "text": [
      "{0: range(0, 10), 1: range(0, 10), 2: range(0, 10), 3: range(0, 10), 4: range(0, 10), 5: range(0, 10), 6: range(0, 10), 7: range(0, 10), 8: range(0, 10), 9: range(0, 10)}\n"
     ]
    }
   ],
   "source": [
    "#Creating a dictionary by assignment\n",
    "dictionary = dict.fromkeys(range(10),range(10))\n",
    "print(dictionary)"
   ]
  },
  {
   "cell_type": "code",
   "execution_count": 8,
   "metadata": {},
   "outputs": [
    {
     "name": "stdout",
     "output_type": "stream",
     "text": [
      "{'Undergraduate': {'BCSE101L': 'Cinu', 'BMAT101': 'Saroj'}}\n"
     ]
    }
   ],
   "source": [
    "#Copies the items from dict1 to dict2 use copy()\n",
    "\n",
    "Classes = {\n",
    "    \"Undergraduate\":{\n",
    "        \"BCSE101L\":\"Cinu\",\n",
    "        \"BMAT101\":\"Saroj\"\n",
    "    }\n",
    "}\n",
    "copy = Classes.copy()\n",
    "Classes.clear()\n",
    "print(copy)\n"
   ]
  },
  {
   "cell_type": "code",
   "execution_count": 9,
   "metadata": {},
   "outputs": [
    {
     "name": "stdout",
     "output_type": "stream",
     "text": [
      "{3: 4, 2: 5, 1: 6, 0: 7, 7: 0, 6: 1, 5: 2, 4: 3, 11: 12, 10: 13, 9: 14, 8: 15, 15: 8, 14: 9, 13: 10, 12: 11, 19: 20, 18: 21, 17: 22, 16: 23, 23: 16, 22: 17, 21: 18, 20: 19, 27: 28, 26: 29, 25: 30, 24: 31, 31: 24, 30: 25, 29: 26, 28: 27, 35: 36, 34: 37, 33: 38, 32: 39, 39: 32, 38: 33, 37: 34, 36: 35, 43: 44, 42: 45, 41: 46, 40: 47, 47: 40, 46: 41, 45: 42, 44: 43, 51: 52, 50: 53, 49: 54, 48: 55, 55: 48, 54: 49, 53: 50, 52: 51, 59: 60, 58: 61, 57: 62, 56: 63, 63: 56, 62: 57, 61: 58, 60: 59}\n"
     ]
    }
   ],
   "source": [
    "#Dictionary comprehension\n",
    "lst = {\n",
    "    i^3:i^4 for i in range(64)\n",
    "}\n",
    "print(lst)"
   ]
  },
  {
   "cell_type": "code",
   "execution_count": null,
   "metadata": {},
   "outputs": [],
   "source": []
  }
 ],
 "metadata": {
  "kernelspec": {
   "display_name": "Python 3",
   "language": "python",
   "name": "python3"
  },
  "language_info": {
   "codemirror_mode": {
    "name": "ipython",
    "version": 3
   },
   "file_extension": ".py",
   "mimetype": "text/x-python",
   "name": "python",
   "nbconvert_exporter": "python",
   "pygments_lexer": "ipython3",
   "version": "3.8.5"
  }
 },
 "nbformat": 4,
 "nbformat_minor": 4
}
